{
 "cells": [
  {
   "cell_type": "markdown",
   "metadata": {},
   "source": [
    "# COGS 188 - Project Proposal"
   ]
  },
  {
   "cell_type": "markdown",
   "metadata": {},
   "source": [
    "# Project Description\n",
    "\n",
    "You have the choice of doing either (1) an AI solve a problem style project or (2) run a Special Topics class on a topic of your choice.  This repo is assuming you want to do (1).  If you want to do (2) you should fill out the Gradescope proposal for that instead of using this repo.\n",
    "\n",
    "You will design and execute a machine learning project. There are a few constraints on the nature of the allowed project. \n",
    "- The problem addressed will not be a \"toy problem\" or \"common training students problem\" like 8-Queens or a small Traveling Salesman Problem or similar\n",
    "- If its the kind of problem (e.g., RL) that interacts with a simulator or live task, then the problem will have a reasonably complex action space. For instance, a wupus world kind of thing with a 9x9 grid is definitely too small.  A simulated mountain car with a less complex 2-d road and simplified dynamics seems like a fairly low achievement level.  A more complex 3-d mountain car simulation with large extent and realistic dynamics, sure sounds great!\n",
    "- If its the kind of problem that uses a dataset, then the dataset will have >1k observations and >5 variables. I'd prefer more like >10k observations and >10 variables. A general rule is that if you have >100x more observations than variables, your solution will likely generalize a lot better. The goal of training an unsupervised machine learning model is to learn the underlying pattern in a dataset in order to generalize well to unseen data, so choosing a large dataset is very important.\n",
    "- The project must include some elements we talked about in the course\n",
    "- The project will include a model selection and/or feature selection component where you will be looking for the best setup to maximize the performance of your ML system.\n",
    "- You will evaluate the performance of your ML system using more than one appropriate metric\n",
    "- You will be writing a report describing and discussing these accomplishments\n",
    "\n",
    "\n",
    "Feel free to delete this description section when you hand in your proposal."
   ]
  },
  {
   "cell_type": "markdown",
   "metadata": {},
   "source": [
    "# Names\n",
    "\n",
    "Hopefully your team is at least this good. Obviously you should replace these with your names.\n",
    "\n",
    "- Pelé\n",
    "- Diego Maradonna\n",
    "- Johan Cruyff\n",
    "- Roberto Carlos\n",
    "- Franz Beckenbaur"
   ]
  },
  {
   "cell_type": "markdown",
   "metadata": {},
   "source": [
    "# Abstract \n",
    "This section should be short and clearly stated. It should be a single paragraph <200 words.  It should summarize: \n",
    "- what your goal/problem is\n",
    "- what the data used represents and how they are measured\n",
    "- what you will be doing with the data\n",
    "- how performance/success will be measured"
   ]
  },
  {
   "cell_type": "markdown",
   "metadata": {},
   "source": [
    "# Background\n",
    "\n",
    "Fill in the background and discuss the kind of prior work that has gone on in this research area here. **Use inline citation** to specify which references support which statements.  You can do that through HTML footnotes (demonstrated here). I used to reccommend Markdown footnotes (google is your friend) because they are simpler but recently I have had some problems with them working for me whereas HTML ones always work so far. So use the method that works for you, but do use inline citations.\n",
    "\n",
    "Here is an example of inline citation. After government genocide in the 20th century, real birds were replaced with surveillance drones designed to look just like birds<a name=\"lorenz\"></a>[<sup>[1]</sup>](#lorenznote). Use a minimum of 2 or 3 citations, but we prefer more <a name=\"admonish\"></a>[<sup>[2]</sup>](#admonishnote). You need enough citations to fully explain and back up important facts. \n",
    "\n",
    "Remeber you are trying to explain why someone would want to answer your question or why your hypothesis is in the form that you've stated. "
   ]
  },
  {
   "cell_type": "markdown",
   "metadata": {},
   "source": [
    "# Problem Statement\n",
    "\n",
    "Clearly describe the problem that you are solving. Avoid ambiguous words. The problem described should be well defined and should have at least one ML-relevant potential solution. Additionally, describe the problem thoroughly such that it is clear that the problem is quantifiable (the problem can be expressed in mathematical or logical terms), measurable (the problem can be measured by some metric and clearly observed), and replicable (the problem can be reproduced and occurs more than once)."
   ]
  },
  {
   "cell_type": "markdown",
   "metadata": {},
   "source": [
    "# Data\n",
    "\n",
    "You should have a strong idea of what dataset(s) will be used to accomplish this project. \n",
    "\n",
    "If you know what (some) of the data you will use, please give the following information for each dataset:\n",
    "- link/reference to obtain it\n",
    "- description of the size of the dataset (# of variables, # of observations)\n",
    "- what an observation consists of\n",
    "- what some critical variables are, how they are represented\n",
    "- any special handling, transformations, cleaning, etc will be needed\n",
    "\n",
    "If you don't yet know what your dataset(s) will be, you should describe what you desire in terms of the above bullets."
   ]
  },
  {
   "cell_type": "markdown",
   "metadata": {},
   "source": [
    "# Proposed Solution\n",
    "\n",
    "In this section, clearly describe a solution to the problem. The solution should be applicable to the project domain and appropriate for the dataset(s) or input(s) given. Provide enough detail (e.g., algorithmic description and/or theoretical properties) to convince us that your solution is applicable. Why might your solution work? Make sure to describe how the solution will be tested.  \n",
    "\n",
    "If you know details already, describe how (e.g., library used, function calls) you plan to implement the solution in a way that is reproducible.\n",
    "\n",
    "If it is appropriate to the problem statement, describe a benchmark model<a name=\"sota\"></a>[<sup>[3]</sup>](#sotanote) against which your solution will be compared. "
   ]
  },
  {
   "cell_type": "markdown",
   "metadata": {},
   "source": [
    "# Evaluation Metrics\n",
    "\n",
    "## 1. Mean Absolute Error (MAE)\n",
    "\n",
    "MAE measures how closely the AI's evaluations of chess positions align with those given by a high-quality benchmark engine (like Stockfish). This metric assesses the accuracy of the model in predicting evaluation scores, which is critical for developing a competitive chess AI.\n",
    "\n",
    "**Mathematical Representation:**  \n",
    "The Mean Absolute Error is calculated as follows:\n",
    "\n",
    "$$\\text{MAE} = \\frac{1}{N} \\sum_{i=1}^N |y_i - \\hat{y}_i|$$\n",
    "\n",
    "where:\n",
    "- \\(N\\) is the total number of evaluated positions in the test set.\n",
    "- \\(y_i\\) is the actual evaluation score provided by the benchmark model for position \\(i\\).\n",
    "- \\(\\hat{y}_i\\) is the predicted evaluation score by your model for position \\(i\\).\n",
    "\n",
    "**Advantages:**  \n",
    "- Provides a clear, numeric measure of prediction accuracy.\n",
    "- Linear scoring means all errors are weighted equally.\n",
    "- Effective for ensuring predictions are as close as possible to actual values, critical in strategy games like chess.\n",
    "\n",
    "## 2. Win Rate Against Various Opponents\n",
    "\n",
    "The Win Rate evaluates the AI's effectiveness in actual gameplay by measuring the percentage of games it wins against a variety of opponents. This metric directly reflects the AI’s practical performance and strategic success.\n",
    "\n",
    "**Mathematical Representation:**  \n",
    "The Win Rate is defined as:\n",
    "\n",
    "$$\\text{Win Rate} = \\left(\\frac{\\text{Number of games won by the AI}}{\\text{Total number of games played}}\\right) \\times 100\\%$$\n",
    "\n",
    "where:\n",
    "- \"Games won by the AI\" includes all matches won against various opponents.\n",
    "- \"Total number of games played\" counts every game played by the AI during the testing phase.\n",
    "\n",
    "**Advantages:**  \n",
    "- Direct relevance to chess, as winning games is the ultimate measure of success.\n",
    "- Intuitive and straightforward, making it an easily understandable metric for performance.\n",
    "- Useful for benchmarking performance across different types of opponents and competitive scenarios."
   ]
  },
  {
   "cell_type": "markdown",
   "metadata": {},
   "source": [
    "# Ethics & Privacy"
   ]
  },
  {
   "cell_type": "markdown",
   "metadata": {},
   "source": [
    "### Privacy and Anonymity\n",
    "While our primary data (chess positions and engine evaluations) does not involve personal information, we take user data privacy seriously. In cases where we collect gameplay data or feedback from users interacting with the AI, strict anonymization protocols will be followed to ensure compliance with data protection regulations such as GDPR and CCPA.\n",
    "\n",
    "### Ethical Use of Intellectual Property\n",
    "Our project leverages open-source tools and datasets provided by entities like Stockfish and Lichess. We commit to respecting the intellectual property rights associated with these resources. This includes adhering to license agreements, acknowledging contributions, and ensuring all software and data used are either open source or properly licensed.\n",
    "\n",
    "### Transparency and Misrepresentation\n",
    "We are committed to transparency about our AI's capabilities, the development process, and its limitations to prevent any potential misinterpretation or misuse. This includes clear communication about how the AI makes decisions and its performance across different chess scenarios.\n",
    "\n",
    "### Unintended Consequences\n",
    "Deploying AI in competitive environments such as chess tournaments may lead to unintended consequences, including ethical concerns about AI assistance in human-only competitions. We will actively engage with the chess community to monitor and address any issues that arise from the AI's deployment.\n",
    "\n",
    "### Tool Assistance\n",
    "To address ethical concerns systematically, we will utilize tools like the [Deon checklist](https://deon.drivendata.org), which assists in ensuring that ethical considerations are integrated throughout the project lifecycle. This approach helps in maintaining ethical integrity in data collection, model training, and the deployment phases of the Chess AI.\n",
    "\n",
    "Our commitment extends beyond just avoiding misuse of AI; we aim to proactively engage with the community to ensure our Chess AI enhances the game without compromising ethical standards or privacy.\n"
   ]
  },
  {
   "cell_type": "markdown",
   "metadata": {},
   "source": [
    "# Team Expectations "
   ]
  },
  {
   "cell_type": "markdown",
   "metadata": {},
   "source": [
    "1. Communication\n",
    "- Weekly Meetings:  The team will meet weekly at a mutually agreed upon time.\n",
    "- Primary Platform: Team communication will be conducted via Discord, including updates, questions, and general discussions related to the project.\n",
    "- Github Coordination: When making changes to the project on Github, members must post a brief update in the team Discord group to keep everyone informed.\n",
    "- Openness: Encourage an atmosphere where each member feels comfortable sharing ideas, questions, and concerns. All communication must be respectful.\n",
    "2. Contributions\n",
    "- Equitable Contribution: Each member is expected to contribute equally to the project. Workload distribution will be reviewed regularly to ensure fairness.\n",
    "- Accountability: Every member is responsible for completing their assigned tasks by the agreed deadlines.\n",
    "3. Conflict and Difficulty\n",
    "- Support: If a member encounters difficulties with their portion of the project, they are encouraged to seek assistance from other team members sooner rather than later."
   ]
  },
  {
   "cell_type": "markdown",
   "metadata": {},
   "source": [
    "# Project Timeline Proposal"
   ]
  },
  {
   "cell_type": "markdown",
   "metadata": {},
   "source": [
    "Replace this with something meaningful that is appropriate for your needs. It doesn't have to be something that fits this format.  It doesn't have to be set in stone... \"no battle plan survives contact with the enemy\". But you need a battle plan nonetheless, and you need to keep it updated so you understand what you are trying to accomplish, who's responsible for what, and what the expected due dates are for each item.\n",
    "\n",
    "| Meeting Date  | Meeting Time| Completed Before Meeting  | Discuss at Meeting |\n",
    "|---|---|---|---|\n",
    "| 4/27  |  6 PM |  Brainstorm topics/questions (all)  | Determine best form of communication (zoom & wechat); Discuss on final project topic | \n",
    "| 5/4  |  8 PM |  Determine final project topic; discuss hypothesis; begin background research; Do background research on topic (William) | Discuss ideal dataset(s) (Jiayi) and ethics (Qianxia); draft project proposal | \n",
    "| 5/10  | 6 PM  | Edit, finalize, and submit proposal; add a new approach to evaluate the model | Search for datasets (Jiayi)  | Discuss Wrangling and possible analytical approaches |\n",
    "| 5/17  | 6 PM  | Import & Wrangle Data ,do some EDA | Review/Edit wrangling/EDA; Discuss Analysis Plan   |\n",
    "| 5/23  | 12 PM  | Finalize wrangling/EDA; Begin programming for project (Cruyff) | Discuss/edit project code; Complete project |\n",
    "| 3/13  | 12 PM  | Complete analysis; Draft results/conclusion/discussion (Carlos)| Discuss/edit full project |\n",
    "| 3/19  | Before 11:59 PM  | NA | Turn in Final Project  |"
   ]
  },
  {
   "cell_type": "markdown",
   "metadata": {},
   "source": [
    "# Footnotes\n",
    "<a name=\"lorenznote\"></a>1.[^](#lorenz): Lorenz, T. (9 Dec 2021) Birds Aren’t Real, or Are They? Inside a Gen Z Conspiracy Theory. *The New York Times*. https://www.nytimes.com/2021/12/09/technology/birds-arent-real-gen-z-misinformation.html<br> \n",
    "<a name=\"admonishnote\"></a>2.[^](#admonish): Also refs should be important to the background, not some randomly chosen vaguely related stuff. Include a web link if possible in refs as above.<br>\n",
    "<a name=\"sotanote\"></a>3.[^](#sota): Perhaps the current state of the art solution such as you see on [Papers with code](https://paperswithcode.com/sota). Or maybe not SOTA, but rather a standard textbook/Kaggle solution to this kind of problem\n"
   ]
  },
  {
   "cell_type": "code",
   "execution_count": null,
   "metadata": {},
   "outputs": [],
   "source": []
  }
 ],
 "metadata": {
  "kernelspec": {
   "display_name": "Python 3 (ipykernel)",
   "language": "python",
   "name": "python3"
  },
  "language_info": {
   "codemirror_mode": {
    "name": "ipython",
    "version": 3
   },
   "file_extension": ".py",
   "mimetype": "text/x-python",
   "name": "python",
   "nbconvert_exporter": "python",
   "pygments_lexer": "ipython3",
   "version": "3.11.5"
  }
 },
 "nbformat": 4,
 "nbformat_minor": 2
}

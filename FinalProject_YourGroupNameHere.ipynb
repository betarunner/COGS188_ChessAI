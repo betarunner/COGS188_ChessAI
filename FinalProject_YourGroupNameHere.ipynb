{
 "cells": [
  {
   "cell_type": "markdown",
   "metadata": {},
   "source": [
    "# COGS 118B - Final Project"
   ]
  },
  {
   "cell_type": "markdown",
   "metadata": {},
   "source": [
    "# Chess AI\n",
    "\n",
    "## Group members\n",
    "\n",
    "- Jiayi Dong\n",
    "- William Zhao\n",
    "- Qianxia Hui"
   ]
  },
  {
   "cell_type": "markdown",
   "metadata": {},
   "source": [
    "# Abstract \n",
    "The development of chess artificial intelligence (AI) has been significantly propelled by deep learning technologies. Traditionally, systems like AlphaZero have dominated this area but come with high financial costs due to their training methodologies, which use self-play reinforcement learning. This research seeks to construct a chess AI using supervised machine learning with data extracted from existing chess engines, specifically Stockfish, to avoid the high training costs. By leveraging over 5.5 million evaluated positions from Lichess database games, this approach aims to train a neural network to understand and predict optimal chess moves effectively. The performance of the developed AI will be measured against established metrics such as the accuracy of predicted evaluations and game outcomes against standard engines."
   ]
  },
  {
   "cell_type": "markdown",
   "metadata": {},
   "source": [
    "# Background\n",
    "\n",
    "Chess has long been a test bed for advancements in artificial intelligence, with earlier efforts focusing on brute-force algorithms and more recent efforts on sophisticated machine learning techniques. The introduction of AlphaZero marked a significant change due to its use of deep reinforcement learning, achieving superhuman performance by learning from self-play without human interventio. However, the cost and computational demands of such technologies limit their accessibility. Recent developments have seen a rise in using supervised learning approaches, utilizing historical data from games where positions were evaluated by advanced engines like Stockfish. These methods offer a more economical and scalable alternative for training chess AIs."
   ]
  },
  {
   "cell_type": "markdown",
   "metadata": {},
   "source": [
    "# Problem Statement\n",
    "\n",
    "The core problem addressed in this research is the high cost and computational inefficiency associated with training competitive chess AIs through self-play and reinforcement learning. This problem is measurable through the financial and computational metrics involved in the training process, quantifiable by comparing the costs and resources required for training different models, and replicable as it affects anyone attempting to develop a competitive chess AI. Our proposed solution involves training a supervised machine learning model on a dataset of pre-evaluated chess positions by Stockfish, available through the Lichess platform. This method is expected to significantly reduce cost and computational demands while maintaining a competitive level of play."
   ]
  },
  {
   "cell_type": "markdown",
   "metadata": {},
   "source": [
    "# Data\n",
    "### 1. Chess Games\n",
    "[Chess Games](https://www.kaggle.com/datasets/arevel/chess-games) is a chess game dataset on kaggle. The original data was downloaded from lichess.org. This dataset contains more than 6 million games played during July of 2016. Each game data consists of game type, player information, game time, opening name, game results and the whole game move. Two of the most important variables are the game results and game moves, which is stored in Movetext format, enabling us to access the game step by step. The detailed game information would help us train and test the model. Some of the game moves have Stockfish analysis evaluations for every move. The quantitative value can be used as rewards and help model to understand how good or bad a move is. Since only some of the games have the labeled evaluations, we will need to pick out those games. Furthermore, since game moves are stored in a particular format, we will need to transform it to usable format for training purpose. \n",
    "\n",
    "### 2. Train Your Own Chess AI\n",
    "In the article [Train Your Own Chess AI](https://storage.googleapis.com/chesspic/datasets/2021-07-31-lichess-evaluations-37MM.db.gz), author provided a dataset with about 5.5+ million games from July 2021 with evaluations to each moves. This includes about 441,600,000 non-unique positions. The data is stored in pgn format and needs to be transformed into usable format. Since its a large dataset, it is stored in SQLite database. We may need to reduce the dataset size for a reasonable training time.\n",
    " \n",
    "### 3. Python Chess Library\n",
    "[Python Chess](https://python-chess.readthedocs.io/en/latest/index.html) is a python library that allow users to create random board in different game depth (eg. a random board in its 24 turns) in pgn format. This will allow us to create as many data as we want. However, the created board is not in a real game, the validity of the training result is questionable. We also need to access stockfish api for evaluations of the created board.\n",
    "\n",
    "### 4. MAIA CHESS Training Dataset\n",
    "[MAIA CHESS](https://csslab.cs.toronto.edu/datasets/#maia_kdd) is an AI chess model trained by Computational Social Science Lab in University of Toronto. The training dataset is accessable online which contains all the stockfish evaluated games played in 2019. All data are stored in csv format. \n",
    "\n"
   ]
  },
  {
   "cell_type": "markdown",
   "metadata": {},
   "source": [
    "# Proposed Solution\n",
    "Data will be processed first. We will need to extract every move and its corresponding evaluations for each game and use them as the training and testing data. We also need to control the size of the data in order to train the model in a reasonable time.\n",
    "\n",
    "For our project, we will be using python and pytorch to train several models, such as MinMax, Random Forest and CNN and compare the training results.\n",
    "\n",
    "We will be using two ways to evaluate the final model. One way is to check the accuracy of the move models picked for a known game. The other way is by using other engine to play with our model and check its winning rate. The later method may require more effort since we need to create an interactive environment for two AI models.\n",
    "\n",
    "It would be unlikely we could reach the state-of-the-art-model level as our training recourses are limited and are using relatively simple algorithms and models. But we can still compare to some of the models we can found online such as AlphaZero and MAIA Chess."
   ]
  },
  {
   "cell_type": "markdown",
   "metadata": {},
   "source": [
    "# Evaluation Metrics\n",
    "\n",
    "### 1. Mean Absolute Error (MAE)\n",
    "\n",
    "MAE measures how closely the AI's evaluations of chess positions align with those given by a high-quality benchmark engine (like Stockfish). This metric assesses the accuracy of the model in predicting evaluation scores, which is critical for developing a competitive chess AI.\n",
    "\n",
    "**Mathematical Representation:**  \n",
    "The Mean Absolute Error is calculated as follows:\n",
    "\n",
    "$$\\text{MAE} = \\frac{1}{N} \\sum_{i=1}^N |y_i - \\hat{y}_i|$$\n",
    "\n",
    "where:\n",
    "- \\(N\\) is the total number of evaluated positions in the test set.\n",
    "- \\(y_i\\) is the actual evaluation score provided by the benchmark model for position \\(i\\).\n",
    "- \\(\\hat{y}_i\\) is the predicted evaluation score by your model for position \\(i\\).\n",
    "\n",
    "**Advantages:**  \n",
    "- Provides a clear, numeric measure of prediction accuracy.\n",
    "- Linear scoring means all errors are weighted equally.\n",
    "- Effective for ensuring predictions are as close as possible to actual values, critical in strategy games like chess.\n",
    "\n",
    "### 2. Win Rate Against Various Opponents\n",
    "\n",
    "The Win Rate evaluates the AI's effectiveness in actual gameplay by measuring the percentage of games it wins against a variety of opponents. This metric directly reflects the AI’s practical performance and strategic success.\n",
    "\n",
    "**Mathematical Representation:**  \n",
    "The Win Rate is defined as:\n",
    "\n",
    "$$\\text{Win Rate} = \\left(\\frac{\\text{Number of games won by the AI}}{\\text{Total number of games played}}\\right) \\times 100\\%$$\n",
    "\n",
    "where:\n",
    "- \"Games won by the AI\" includes all matches won against various opponents.\n",
    "- \"Total number of games played\" counts every game played by the AI during the testing phase.\n",
    "\n",
    "**Advantages:**  \n",
    "- Direct relevance to chess, as winning games is the ultimate measure of success.\n",
    "- Intuitive and straightforward, making it an easily understandable metric for performance.\n",
    "- Useful for benchmarking performance across different types of opponents and competitive scenarios."
   ]
  },
  {
   "cell_type": "markdown",
   "metadata": {},
   "source": [
    "# EDA"
   ]
  },
  {
   "cell_type": "code",
   "execution_count": null,
   "metadata": {},
   "outputs": [],
   "source": [
    "import numpy as np\n",
    "import pandas as pd"
   ]
  },
  {
   "cell_type": "code",
   "execution_count": null,
   "metadata": {},
   "outputs": [
    {
     "data": {
      "text/plain": [
       "(20058, 16)"
      ]
     },
     "metadata": {},
     "output_type": "display_data"
    }
   ],
   "source": [
    "dataset = pd.read_csv('datasets/games.csv')\n",
    "dataset.shape"
   ]
  },
  {
   "cell_type": "code",
   "execution_count": null,
   "metadata": {},
   "outputs": [
    {
     "data": {
      "text/plain": [
       "Index(['id', 'rated', 'created_at', 'last_move_at', 'turns', 'victory_status',\n",
       "       'winner', 'increment_code', 'white_id', 'white_rating', 'black_id',\n",
       "       'black_rating', 'moves', 'opening_eco', 'opening_name', 'opening_ply'],\n",
       "      dtype='object')"
      ]
     },
     "metadata": {},
     "output_type": "display_data"
    }
   ],
   "source": [
    "dataset.columns"
   ]
  },
  {
   "cell_type": "code",
   "execution_count": null,
   "metadata": {},
   "outputs": [
    {
     "data": {
      "text/html": [
       "<div>\n",
       "<style scoped>\n",
       "    .dataframe tbody tr th:only-of-type {\n",
       "        vertical-align: middle;\n",
       "    }\n",
       "\n",
       "    .dataframe tbody tr th {\n",
       "        vertical-align: top;\n",
       "    }\n",
       "\n",
       "    .dataframe thead th {\n",
       "        text-align: right;\n",
       "    }\n",
       "</style>\n",
       "<table border=\"1\" class=\"dataframe\">\n",
       "  <thead>\n",
       "    <tr style=\"text-align: right;\">\n",
       "      <th></th>\n",
       "      <th>id</th>\n",
       "      <th>rated</th>\n",
       "      <th>created_at</th>\n",
       "      <th>last_move_at</th>\n",
       "      <th>turns</th>\n",
       "      <th>victory_status</th>\n",
       "      <th>winner</th>\n",
       "      <th>increment_code</th>\n",
       "      <th>white_id</th>\n",
       "      <th>white_rating</th>\n",
       "      <th>black_id</th>\n",
       "      <th>black_rating</th>\n",
       "      <th>moves</th>\n",
       "      <th>opening_eco</th>\n",
       "      <th>opening_name</th>\n",
       "      <th>opening_ply</th>\n",
       "    </tr>\n",
       "  </thead>\n",
       "  <tbody>\n",
       "    <tr>\n",
       "      <th>0</th>\n",
       "      <td>TZJHLljE</td>\n",
       "      <td>False</td>\n",
       "      <td>1.504210e+12</td>\n",
       "      <td>1.504210e+12</td>\n",
       "      <td>13</td>\n",
       "      <td>outoftime</td>\n",
       "      <td>white</td>\n",
       "      <td>15+2</td>\n",
       "      <td>bourgris</td>\n",
       "      <td>1500</td>\n",
       "      <td>a-00</td>\n",
       "      <td>1191</td>\n",
       "      <td>d4 d5 c4 c6 cxd5 e6 dxe6 fxe6 Nf3 Bb4+ Nc3 Ba5...</td>\n",
       "      <td>D10</td>\n",
       "      <td>Slav Defense: Exchange Variation</td>\n",
       "      <td>5</td>\n",
       "    </tr>\n",
       "  </tbody>\n",
       "</table>\n",
       "</div>"
      ],
      "text/plain": [
       "         id  rated    created_at  last_move_at  turns victory_status winner  \\\n",
       "0  TZJHLljE  False  1.504210e+12  1.504210e+12     13      outoftime  white   \n",
       "\n",
       "  increment_code  white_id  white_rating black_id  black_rating  \\\n",
       "0           15+2  bourgris          1500     a-00          1191   \n",
       "\n",
       "                                               moves opening_eco  \\\n",
       "0  d4 d5 c4 c6 cxd5 e6 dxe6 fxe6 Nf3 Bb4+ Nc3 Ba5...         D10   \n",
       "\n",
       "                       opening_name  opening_ply  \n",
       "0  Slav Defense: Exchange Variation            5  "
      ]
     },
     "metadata": {},
     "output_type": "display_data"
    }
   ],
   "source": [
    "dataset.head(1)"
   ]
  },
  {
   "cell_type": "code",
   "execution_count": null,
   "metadata": {},
   "outputs": [],
   "source": [
    "moves = dataset['moves']"
   ]
  },
  {
   "cell_type": "code",
   "execution_count": null,
   "metadata": {},
   "outputs": [
    {
     "name": "stdout",
     "output_type": "stream",
     "text": [
      "id                                            MsoDV9wj\n",
      "rated                                            False\n",
      "created_at                             1504240000000.0\n",
      "last_move_at                           1504240000000.0\n",
      "turns                                                5\n",
      "victory_status                                    draw\n",
      "winner                                            draw\n",
      "increment_code                                    10+0\n",
      "white_id                                     trelynn17\n",
      "white_rating                                      1250\n",
      "black_id                                 franklin14532\n",
      "black_rating                                      1002\n",
      "moves                                 e4 c5 Nf3 Qa5 a3\n",
      "opening_eco                                        B27\n",
      "opening_name      Sicilian Defense: Mongoose Variation\n",
      "opening_ply                                          4\n",
      "Name: 5, dtype: object\n",
      "e4 c5 Nf3 Qa5 a3\n"
     ]
    }
   ],
   "source": [
    "print(dataset.iloc[5])\n",
    "print(moves[5])"
   ]
  },
  {
   "cell_type": "code",
   "execution_count": null,
   "metadata": {},
   "outputs": [
    {
     "data": {
      "text/plain": [
       "'e4 e6 d4 d5 Nc3 c5 exd5 exd5 Nf3 Nc6 Bb5 Nf6 O-O Be7 dxc5 O-O Bg5 h6 Bxf6 Bxf6 Nxd5 Bxb2 Rb1 Ba3 Re1 Bxc5 Bd3 Be6 c4 b6 Be4 Rc8 Qa4 Ne7 Rbd1 Nxd5 cxd5 Bd7 Qb3 Qf6 Bb1 Bd6 Qd3 g6 h3 Qf4 Re4 Qf6 Qe3 Rfe8 Qxh6 Rxe4 Bxe4 Bf4 Qh4 Qxh4 Nxh4 Bd6 g4 a5 Nf3 b5 Nd4 Rc4 Bg2 Bc5 Nc6 Bxc6 dxc6 Be7 Bd5 Rc5 Kg2 Kg7 Rd3 Kf6 f4 g5 Kf3 Kg6 Ke4 f6 fxg5 fxg5 Rf3 Bf6 Rf5 Rc2 Rf3 Re2+ Re3 Rc2 Kf3 b4 Be4+ Kg7 Bxc2 a4 Bxa4 Kg6 c7'"
      ]
     },
     "metadata": {},
     "output_type": "display_data"
    }
   ],
   "source": [
    "moves[100]"
   ]
  },
  {
   "cell_type": "markdown",
   "metadata": {},
   "source": [
    "# Results\n",
    "\n",
    "You may have done tons of work on this. Not all of it belongs here. \n",
    "\n",
    "Reports should have a __narrative__. Once you've looked through all your results over the quarter, decide on one main point and 2-4 secondary points you want us to understand. Include the detailed code and analysis results of those points only; you should spend more time/code/plots on your main point than the others.\n",
    "\n",
    "If you went down any blind alleys that you later decided to not pursue, please don't abuse the TAs time by throwing in 81 lines of code and 4 plots related to something you actually abandoned.  Consider deleting things that are not important to your narrative.  If its slightly relevant to the narrative or you just want us to know you tried something, you could keep it in by summarizing the result in this report in a sentence or two, moving the actual analysis to another file in your repo, and providing us a link to that file.\n",
    "\n",
    "### Subsection 1\n",
    "\n",
    "You will likely have different subsections as you go through your report. For instance you might start with an analysis of the dataset/problem and from there you might be able to draw out the kinds of algorithms that are / aren't appropriate to tackle the solution.  Or something else completely if this isn't the way your project works.\n",
    "\n",
    "### Subsection 2\n",
    "\n",
    "Another likely section is if you are doing any feature selection through cross-validation or hand-design/validation of features/transformations of the data\n",
    "\n",
    "### Subsection 3\n",
    "\n",
    "Probably you need to describe the base model and demonstrate its performance.  Maybe you include a learning curve to show whether you have enough data to do train/validate/test split or have to go to k-folds or LOOCV or ???\n",
    "\n",
    "### Subsection 4\n",
    "\n",
    "Perhaps some exploration of the model selection (hyper-parameters) or algorithm selection task. Validation curves, plots showing the variability of perfromance across folds of the cross-validation, etc. If you're doing one, the outcome of the null hypothesis test or parsimony principle check to show how you are selecting the best model.\n",
    "\n",
    "### Subsection 5 \n",
    "\n",
    "Maybe you do model selection again, but using a different kind of metric than before?\n",
    "\n"
   ]
  },
  {
   "cell_type": "markdown",
   "metadata": {},
   "source": [
    "# Discussion\n",
    "\n",
    "### Interpreting the result\n",
    "\n",
    "OK, you've given us quite a bit of tech informaiton above, now its time to tell us what to pay attention to in all that.  Think clearly about your results, decide on one main point and 2-4 secondary points you want us to understand. Highlight HOW your results support those points.  You probably want 2-5 sentences per point.\n",
    "\n",
    "### Limitations\n",
    "\n",
    "Are there any problems with the work?  For instance would more data change the nature of the problem? Would it be good to explore more hyperparams than you had time for?   \n",
    "\n",
    "### Ethics & Privacy\n",
    "\n",
    "If your project has obvious potential concerns with ethics or data privacy discuss that here.  Almost every ML project put into production can have ethical implications if you use your imagination. Use your imagination.\n",
    "\n",
    "Even if you can't come up with an obvious ethical concern that should be addressed, you should know that a large number of ML projects that go into producation have unintended consequences and ethical problems once in production. How will your team address these issues?\n",
    "\n",
    "Consider a tool to help you address the potential issues such as https://deon.drivendata.org\n",
    "\n",
    "### Conclusion\n",
    "\n",
    "Reiterate your main point and in just a few sentences tell us how your results support it. Mention how this work would fit in the background/context of other work in this field if you can. Suggest directions for future work if you want to."
   ]
  },
  {
   "cell_type": "markdown",
   "metadata": {},
   "source": [
    "# Ethics & Privacy"
   ]
  },
  {
   "cell_type": "markdown",
   "metadata": {},
   "source": [
    "### Privacy and Anonymity\n",
    "While our primary data (chess positions and engine evaluations) does not involve personal information, we take user data privacy seriously. In cases where we collect gameplay data or feedback from users interacting with the AI, strict anonymization protocols will be followed to ensure compliance with data protection regulations such as GDPR and CCPA.\n",
    "\n",
    "### Ethical Use of Intellectual Property\n",
    "Our project leverages open-source tools and datasets provided by entities like Stockfish and Lichess. We commit to respecting the intellectual property rights associated with these resources. This includes adhering to license agreements, acknowledging contributions, and ensuring all software and data used are either open source or properly licensed.\n",
    "\n",
    "### Transparency and Misrepresentation\n",
    "We are committed to transparency about our AI's capabilities, the development process, and its limitations to prevent any potential misinterpretation or misuse. This includes clear communication about how the AI makes decisions and its performance across different chess scenarios.\n",
    "\n",
    "### Unintended Consequences\n",
    "Deploying AI in competitive environments such as chess tournaments may lead to unintended consequences, including ethical concerns about AI assistance in human-only competitions. We will actively engage with the chess community to monitor and address any issues that arise from the AI's deployment.\n",
    "\n",
    "### Tool Assistance\n",
    "To address ethical concerns systematically, we will utilize tools like the [Deon checklist](https://deon.drivendata.org), which assists in ensuring that ethical considerations are integrated throughout the project lifecycle. This approach helps in maintaining ethical integrity in data collection, model training, and the deployment phases of the Chess AI.\n",
    "\n",
    "Our commitment extends beyond just avoiding misuse of AI; we aim to proactively engage with the community to ensure our Chess AI enhances the game without compromising ethical standards or privacy.\n"
   ]
  },
  {
   "cell_type": "markdown",
   "metadata": {},
   "source": [
    "# Footnotes\n",
    "<a name=\"lorenznote\"></a>1.[^](#lorenz): Lorenz, T. (9 Dec 2021) Birds Aren’t Real, or Are They? Inside a Gen Z Conspiracy Theory. *The New York Times*. https://www.nytimes.com/2021/12/09/technology/birds-arent-real-gen-z-misinformation.html<br> \n",
    "<a name=\"admonishnote\"></a>2.[^](#admonish): Also refs should be important to the background, not some randomly chosen vaguely related stuff. Include a web link if possible in refs as above.<br>\n",
    "<a name=\"sotanote\"></a>3.[^](#sota): Perhaps the current state of the art solution such as you see on [Papers with code](https://paperswithcode.com/sota). Or maybe not SOTA, but rather a standard textbook/Kaggle solution to this kind of problem\n"
   ]
  },
  {
   "cell_type": "code",
   "execution_count": null,
   "metadata": {},
   "outputs": [],
   "source": []
  }
 ],
 "metadata": {
  "kernelspec": {
   "display_name": "Python 3 (ipykernel)",
   "language": "python",
   "name": "python3"
  },
  "language_info": {
   "codemirror_mode": {
    "name": "ipython",
    "version": 3
   },
   "file_extension": ".py",
   "mimetype": "text/x-python",
   "name": "python",
   "nbconvert_exporter": "python",
   "pygments_lexer": "ipython3",
   "version": "3.11.5"
  }
 },
 "nbformat": 4,
 "nbformat_minor": 2
}

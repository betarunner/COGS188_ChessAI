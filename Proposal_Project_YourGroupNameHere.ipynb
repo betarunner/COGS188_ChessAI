{
 "cells": [
  {
   "cell_type": "markdown",
   "metadata": {},
   "source": [
    "# COGS 188 - Project Proposal"
   ]
  },
  {
   "cell_type": "markdown",
   "metadata": {},
   "source": [
    "# Project Description\n",
    "\n",
    "You have the choice of doing either (1) an AI solve a problem style project or (2) run a Special Topics class on a topic of your choice.  This repo is assuming you want to do (1).  If you want to do (2) you should fill out the Gradescope proposal for that instead of using this repo.\n",
    "\n",
    "You will design and execute a machine learning project. There are a few constraints on the nature of the allowed project. \n",
    "- The problem addressed will not be a \"toy problem\" or \"common training students problem\" like 8-Queens or a small Traveling Salesman Problem or similar\n",
    "- If its the kind of problem (e.g., RL) that interacts with a simulator or live task, then the problem will have a reasonably complex action space. For instance, a wupus world kind of thing with a 9x9 grid is definitely too small.  A simulated mountain car with a less complex 2-d road and simplified dynamics seems like a fairly low achievement level.  A more complex 3-d mountain car simulation with large extent and realistic dynamics, sure sounds great!\n",
    "- If its the kind of problem that uses a dataset, then the dataset will have >1k observations and >5 variables. I'd prefer more like >10k observations and >10 variables. A general rule is that if you have >100x more observations than variables, your solution will likely generalize a lot better. The goal of training an unsupervised machine learning model is to learn the underlying pattern in a dataset in order to generalize well to unseen data, so choosing a large dataset is very important.\n",
    "- The project must include some elements we talked about in the course\n",
    "- The project will include a model selection and/or feature selection component where you will be looking for the best setup to maximize the performance of your ML system.\n",
    "- You will evaluate the performance of your ML system using more than one appropriate metric\n",
    "- You will be writing a report describing and discussing these accomplishments\n",
    "\n",
    "\n",
    "Feel free to delete this description section when you hand in your proposal."
   ]
  },
  {
   "cell_type": "markdown",
   "metadata": {},
   "source": [
    "# Names\n",
    "- Jiayi Dong\n",
    "- William Zhao\n",
    "- Qianxia Hui"
   ]
  },
  {
   "cell_type": "markdown",
   "metadata": {},
   "source": [
    "# Abstract \n",
    "The development of chess artificial intelligence (AI) has been significantly propelled by deep learning technologies. Traditionally, systems like AlphaZero have dominated this area but come with high financial costs due to their training methodologies, which use self-play reinforcement learning. This research seeks to construct a chess AI using supervised machine learning with data extracted from existing chess engines, specifically Stockfish, to avoid the high training costs. By leveraging over 5.5 million evaluated positions from Lichess database games, this approach aims to train a neural network to understand and predict optimal chess moves effectively. The performance of the developed AI will be measured against established metrics such as the accuracy of predicted evaluations and game outcomes against standard engines."
   ]
  },
  {
   "cell_type": "markdown",
   "metadata": {},
   "source": [
    "# Background\n",
    "\n",
    "Chess has long been a test bed for advancements in artificial intelligence, with earlier efforts focusing on brute-force algorithms and more recent efforts on sophisticated machine learning techniques. The introduction of AlphaZero marked a significant change due to its use of deep reinforcement learning, achieving superhuman performance by learning from self-play without human interventio. However, the cost and computational demands of such technologies limit their accessibility. Recent developments have seen a rise in using supervised learning approaches, utilizing historical data from games where positions were evaluated by advanced engines like Stockfish. These methods offer a more economical and scalable alternative for training chess AIs.\n"
   ]
  },
  {
   "cell_type": "markdown",
   "metadata": {},
   "source": [
    "# Problem Statement\n",
    "\n",
    "The core problem addressed in this research is the high cost and computational inefficiency associated with training competitive chess AIs through self-play and reinforcement learning. This problem is measurable through the financial and computational metrics involved in the training process, quantifiable by comparing the costs and resources required for training different models, and replicable as it affects anyone attempting to develop a competitive chess AI. Our proposed solution involves training a supervised machine learning model on a dataset of pre-evaluated chess positions by Stockfish, available through the Lichess platform. This method is expected to significantly reduce cost and computational demands while maintaining a competitive level of play."
   ]
  },
  {
   "cell_type": "markdown",
   "metadata": {},
   "source": [
    "# Data\n",
    "### 1. Chess Games\n",
    "[Chess Games](https://www.kaggle.com/datasets/arevel/chess-games) is a chess game dataset on kaggle. The original data was downloaded from lichess.org. This dataset contains more than 6 million games played during July of 2016. Each game data consists of game type, player information, game time, opening name, game results and the whole game move. Two of the most important variables are the game results and game moves, which is stored in Movetext format, enabling us to access the game step by step. The detailed game information would help us train and test the model. Some of the game moves have Stockfish analysis evaluations for every move. The quantitative value can be used as rewards and help model to understand how good or bad a move is. Since only some of the games have the labeled evaluations, we will need to pick out those games. Furthermore, since game moves are stored in a particular format, we will need to transform it to usable format for training purpose. \n",
    "\n",
    "### 2. Train Your Own Chess AI\n",
    "In the article [Train Your Own Chess AI](https://storage.googleapis.com/chesspic/datasets/2021-07-31-lichess-evaluations-37MM.db.gz), author provided a dataset with about 5.5+ million games from July 2021 with evaluations to each moves. This includes about 441,600,000 non-unique positions. The data is stored in pgn format and needs to be transformed into usable format. Since its a large dataset, it is stored in SQLite database. We may need to reduce the dataset size for a reasonable training time.\n",
    " \n",
    "### 3. Python Chess Library\n",
    "[Python Chess](https://python-chess.readthedocs.io/en/latest/index.html) is a python library that allow users to create random board in different game depth (eg. a random board in its 24 turns) in pgn format. This will allow us to create as many data as we want. However, the created board is not in a real game, the validity of the training result is questionable. We also need to access stockfish api for evaluations of the created board.\n",
    "\n",
    "### 4. MAIA CHESS Training Dataset\n",
    "[MAIA CHESS](https://csslab.cs.toronto.edu/datasets/#maia_kdd) is an AI chess model trained by Computational Social Science Lab in University of Toronto. The training dataset is accessable online which contains all the stockfish evaluated games played in 2019. All data are stored in csv format. \n"
   ]
  },
  {
   "cell_type": "markdown",
   "metadata": {},
   "source": [
    "# Proposed Solution\n",
    "Data will be processed first. We will need to extract every move and its corresponding evaluations for each game and use them as the training and testing data. We also need to control the size of the data in order to train the model in a reasonable time.\n",
    "\n",
    "For our project, we will be using python and pytorch to train several models, such as MinMax, Random Forest and CNN and compare the training results.\n",
    "\n",
    "We will be using two ways to evaluate the final model. One way is to check the accuracy of the move models picked for a known game. The other way is by using other engine to play with our model and check its winning rate. The later method may require more effort since we need to create an interactive environment for two AI models.\n",
    "\n",
    "It would be unlikely we could reach the state-of-the-art-model level as our training recourses are limited and are using relatively simple algorithms and models. But we can still compare to some of the models we can found online such as AlphaZero and MAIA Chess."
   ]
  },
  {
   "cell_type": "markdown",
   "metadata": {},
   "source": [
    "# Evaluation Metrics\n",
    "\n",
    "### 1. Mean Absolute Error (MAE)\n",
    "\n",
    "MAE measures how closely the AI's evaluations of chess positions align with those given by a high-quality benchmark engine (like Stockfish). This metric assesses the accuracy of the model in predicting evaluation scores, which is critical for developing a competitive chess AI.\n",
    "\n",
    "**Mathematical Representation:**  \n",
    "The Mean Absolute Error is calculated as follows:\n",
    "\n",
    "$$\\text{MAE} = \\frac{1}{N} \\sum_{i=1}^N |y_i - \\hat{y}_i|$$\n",
    "\n",
    "where:\n",
    "- \\(N\\) is the total number of evaluated positions in the test set.\n",
    "- \\(y_i\\) is the actual evaluation score provided by the benchmark model for position \\(i\\).\n",
    "- \\(\\hat{y}_i\\) is the predicted evaluation score by your model for position \\(i\\).\n",
    "\n",
    "**Advantages:**  \n",
    "- Provides a clear, numeric measure of prediction accuracy.\n",
    "- Linear scoring means all errors are weighted equally.\n",
    "- Effective for ensuring predictions are as close as possible to actual values, critical in strategy games like chess.\n",
    "\n",
    "### 2. Win Rate Against Various Opponents\n",
    "\n",
    "The Win Rate evaluates the AI's effectiveness in actual gameplay by measuring the percentage of games it wins against a variety of opponents. This metric directly reflects the AI’s practical performance and strategic success.\n",
    "\n",
    "**Mathematical Representation:**  \n",
    "The Win Rate is defined as:\n",
    "\n",
    "$$\\text{Win Rate} = \\left(\\frac{\\text{Number of games won by the AI}}{\\text{Total number of games played}}\\right) \\times 100\\%$$\n",
    "\n",
    "where:\n",
    "- \"Games won by the AI\" includes all matches won against various opponents.\n",
    "- \"Total number of games played\" counts every game played by the AI during the testing phase.\n",
    "\n",
    "**Advantages:**  \n",
    "- Direct relevance to chess, as winning games is the ultimate measure of success.\n",
    "- Intuitive and straightforward, making it an easily understandable metric for performance.\n",
    "- Useful for benchmarking performance across different types of opponents and competitive scenarios."
   ]
  },
  {
   "cell_type": "markdown",
   "metadata": {},
   "source": [
    "# Ethics & Privacy"
   ]
  },
  {
   "cell_type": "markdown",
   "metadata": {},
   "source": [
    "### Privacy and Anonymity\n",
    "While our primary data (chess positions and engine evaluations) does not involve personal information, we take user data privacy seriously. In cases where we collect gameplay data or feedback from users interacting with the AI, strict anonymization protocols will be followed to ensure compliance with data protection regulations such as GDPR and CCPA.\n",
    "\n",
    "### Ethical Use of Intellectual Property\n",
    "Our project leverages open-source tools and datasets provided by entities like Stockfish and Lichess. We commit to respecting the intellectual property rights associated with these resources. This includes adhering to license agreements, acknowledging contributions, and ensuring all software and data used are either open source or properly licensed.\n",
    "\n",
    "### Transparency and Misrepresentation\n",
    "We are committed to transparency about our AI's capabilities, the development process, and its limitations to prevent any potential misinterpretation or misuse. This includes clear communication about how the AI makes decisions and its performance across different chess scenarios.\n",
    "\n",
    "### Unintended Consequences\n",
    "Deploying AI in competitive environments such as chess tournaments may lead to unintended consequences, including ethical concerns about AI assistance in human-only competitions. We will actively engage with the chess community to monitor and address any issues that arise from the AI's deployment.\n",
    "\n",
    "### Tool Assistance\n",
    "To address ethical concerns systematically, we will utilize tools like the [Deon checklist](https://deon.drivendata.org), which assists in ensuring that ethical considerations are integrated throughout the project lifecycle. This approach helps in maintaining ethical integrity in data collection, model training, and the deployment phases of the Chess AI.\n",
    "\n",
    "Our commitment extends beyond just avoiding misuse of AI; we aim to proactively engage with the community to ensure our Chess AI enhances the game without compromising ethical standards or privacy.\n"
   ]
  },
  {
   "cell_type": "markdown",
   "metadata": {},
   "source": [
    "# Team Expectations "
   ]
  },
  {
   "cell_type": "markdown",
   "metadata": {},
   "source": [
    "1. Communication\n",
    "- Weekly Meetings:  The team will meet weekly at a mutually agreed upon time.\n",
    "- Primary Platform: Team communication will be conducted via Discord, including updates, questions, and general discussions related to the project.\n",
    "- Github Coordination: When making changes to the project on Github, members must post a brief update in the team Discord group to keep everyone informed.\n",
    "- Openness: Encourage an atmosphere where each member feels comfortable sharing ideas, questions, and concerns. All communication must be respectful.\n",
    "2. Contributions\n",
    "- Equitable Contribution: Each member is expected to contribute equally to the project. Workload distribution will be reviewed regularly to ensure fairness.\n",
    "- Accountability: Every member is responsible for completing their assigned tasks by the agreed deadlines.\n",
    "3. Conflict and Difficulty\n",
    "- Support: If a member encounters difficulties with their portion of the project, they are encouraged to seek assistance from other team members sooner rather than later."
   ]
  },
  {
   "cell_type": "markdown",
   "metadata": {},
   "source": [
    "# Project Timeline Proposal"
   ]
  },
  {
   "cell_type": "markdown",
   "metadata": {},
   "source": [
    "Replace this with something meaningful that is appropriate for your needs. It doesn't have to be something that fits this format.  It doesn't have to be set in stone... \"no battle plan survives contact with the enemy\". But you need a battle plan nonetheless, and you need to keep it updated so you understand what you are trying to accomplish, who's responsible for what, and what the expected due dates are for each item.\n",
    "\n",
    "| Meeting Date  | Meeting Time| Completed Before Meeting  | Discuss at Meeting |\n",
    "|---|---|---|---|\n",
    "| 4/27  |  6 PM |  Brainstorm topics/questions (all)  | Determine best form of communication (zoom & wechat); Discuss on final project topic | \n",
    "| 5/4  |  8 PM |  Determine final project topic; discuss hypothesis; begin background research; Do background research on topic (William) | Discuss ideal dataset(s) (Jiayi) and ethics (Qianxia); draft project proposal | \n",
    "| 5/10  | 6 PM  | Edit, finalize, and submit proposal; add a new approach to evaluate the model | Search for datasets (Jiayi)  | Discuss Wrangling and possible analytical approaches |\n",
    "| 5/17  | 6 PM  | Import & Wrangle Data ,do some EDA | Review/Edit wrangling/EDA; Discuss Analysis Plan   |\n",
    "| 5/23  | 12 PM  | Finalize wrangling/EDA; Begin programming for project (Cruyff) | Discuss/edit project code; Complete project |\n",
    "| 3/13  | 12 PM  | Complete analysis; Draft results/conclusion/discussion (Carlos)| Discuss/edit full project |\n",
    "| 3/19  | Before 11:59 PM  | NA | Turn in Final Project  |"
   ]
  },
  {
   "cell_type": "markdown",
   "metadata": {},
   "source": [
    "# Footnotes\n"
   ]
  }
 ],
 "metadata": {
  "kernelspec": {
   "display_name": "Python 3 (ipykernel)",
   "language": "python",
   "name": "python3"
  },
  "language_info": {
   "codemirror_mode": {
    "name": "ipython",
    "version": 3
   },
   "file_extension": ".py",
   "mimetype": "text/x-python",
   "name": "python",
   "nbconvert_exporter": "python",
   "pygments_lexer": "ipython3",
   "version": "3.11.5"
  }
 },
 "nbformat": 4,
 "nbformat_minor": 2
}
